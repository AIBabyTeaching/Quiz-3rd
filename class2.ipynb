{
 "cells": [
  {
   "cell_type": "markdown",
   "metadata": {},
   "source": [
    "- Student Name:\n",
    "- Reg. Number: "
   ]
  },
  {
   "cell_type": "markdown",
   "metadata": {},
   "source": [
    "Quiz A: Data understanding/Preparation with Pandas\n",
    "\n",
    "Instructions:\n",
    "\n",
    "1. Import the required modules [pandas]\n",
    "2. Load the data from [employees_data.csv]\n",
    "3. Assess the data [Understand the data attributes, display the datatable, its info and statistical information]\n",
    "4. Document the findings or issues [In your opinion, or storytelling]\n",
    "5. Try to solve the data issues you mentioned [If any]\n",
    "\n",
    "[Cheatsheet Allowed!!]"
   ]
  },
  {
   "cell_type": "code",
   "execution_count": null,
   "metadata": {
    "vscode": {
     "languageId": "plaintext"
    }
   },
   "outputs": [],
   "source": []
  }
 ],
 "metadata": {
  "kernelspec": {
   "display_name": "mitocluster",
   "language": "python",
   "name": "python3"
  },
  "language_info": {
   "codemirror_mode": {
    "name": "ipython",
    "version": 3
   },
   "file_extension": ".py",
   "mimetype": "text/x-python",
   "name": "python",
   "nbconvert_exporter": "python",
   "pygments_lexer": "ipython3",
   "version": "3.11.5"
  }
 },
 "nbformat": 4,
 "nbformat_minor": 2
}
